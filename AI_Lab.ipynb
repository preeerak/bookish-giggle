{
  "nbformat": 4,
  "nbformat_minor": 0,
  "metadata": {
    "colab": {
      "name": "AI Lab.ipynb",
      "provenance": [],
      "authorship_tag": "ABX9TyONaffYOEMfGUxdohmP7Ccz",
      "include_colab_link": true
    },
    "kernelspec": {
      "name": "python3",
      "display_name": "Python 3"
    },
    "language_info": {
      "name": "python"
    }
  },
  "cells": [
    {
      "cell_type": "markdown",
      "metadata": {
        "id": "view-in-github",
        "colab_type": "text"
      },
      "source": [
        "<a href=\"https://colab.research.google.com/github/preeerak/bookish-giggle/blob/main/AI_Lab.ipynb\" target=\"_parent\"><img src=\"https://colab.research.google.com/assets/colab-badge.svg\" alt=\"Open In Colab\"/></a>"
      ]
    },
    {
      "cell_type": "markdown",
      "source": [
        "Tutorial 1\n",
        "- Write a Python Program to Implement the Multiplication Table of a Given Number.\n",
        "- Write a Python Program to Check Wheather the Given Number is Prime Number or Not.\n",
        "- Write a Python Program to Find the Factorial of a Given Number"
      ],
      "metadata": {
        "id": "n6LdgzBJfH2d"
      }
    },
    {
      "cell_type": "code",
      "execution_count": null,
      "metadata": {
        "colab": {
          "base_uri": "https://localhost:8080/"
        },
        "id": "kiZoPp1TfG7k",
        "outputId": "93fd92c4-c09a-4174-f881-72fba7293481"
      },
      "outputs": [
        {
          "output_type": "stream",
          "name": "stdout",
          "text": [
            "Enter the number of which you want Multipication Table: 3\n",
            "The Multiplication Table of: 3\n",
            "3 x 1 = 3\n",
            "3 x 2 = 6\n",
            "3 x 3 = 9\n",
            "3 x 4 = 12\n",
            "3 x 5 = 15\n",
            "3 x 6 = 18\n",
            "3 x 7 = 21\n",
            "3 x 8 = 24\n",
            "3 x 9 = 27\n",
            "3 x 10 = 30\n"
          ]
        }
      ],
      "source": [
        "# Write a Python Program to Implement the Multiplication Table of a Given Number.\n",
        "number = int(input (\"Enter the number of which you want Multipication Table: \"))      \n",
        "# We are using \"for loop\" to iterate the multiplication 10 times       \n",
        "print (\"The Multiplication Table of:\",number)    \n",
        "for count in range(1, 11):      \n",
        "   print (number, 'x', count, '=', number * count)    "
      ]
    },
    {
      "cell_type": "code",
      "source": [
        "# Write a Python Program to Check Wheather the Given Number is Prime Number or Not.\n",
        "num = int(input (\"Enter the number of which you want to know it is prime or not: \"))\n",
        "if num > 1:\n",
        "  for i in range(2,num):\n",
        "    if (num % i) == 0:\n",
        "      print(num,\"is not a prime number.\")\n",
        "      break\n",
        "    else:\n",
        "      print(num,\"is a prime number.\")\n",
        "      break\n",
        "  else:\n",
        "     print(num,\"is not a prime number.\")\n",
        "\n"
      ],
      "metadata": {
        "colab": {
          "base_uri": "https://localhost:8080/"
        },
        "id": "o5enZaXWjj4a",
        "outputId": "0dc10953-de21-41eb-ee7f-b7b4086304d5"
      },
      "execution_count": null,
      "outputs": [
        {
          "output_type": "stream",
          "name": "stdout",
          "text": [
            "Enter the number of which you want to know it is prime or not: 6\n",
            "6 is not a prime number.\n"
          ]
        }
      ]
    },
    {
      "cell_type": "code",
      "source": [
        "# Write a Python Program to Find the Factorial of a Given Number\n",
        "number = int(input (\"Enter the number of which you want Factorial: \"))\n",
        "factorial=1\n",
        "for i in range(1,number+1):\n",
        "  factorial = factorial*i\n",
        "print(factorial)\n"
      ],
      "metadata": {
        "colab": {
          "base_uri": "https://localhost:8080/"
        },
        "id": "czUH_uvFfs-E",
        "outputId": "1ce4a00f-0331-44dc-9540-a91592597436"
      },
      "execution_count": null,
      "outputs": [
        {
          "output_type": "stream",
          "name": "stdout",
          "text": [
            "Enter the number of which you want Factorial: 5\n",
            "120\n"
          ]
        }
      ]
    },
    {
      "cell_type": "markdown",
      "source": [
        "Tutorial 2\n",
        "- Write a Python Program to Implement Simple Chatbot (Min 10 QA)"
      ],
      "metadata": {
        "id": "lESt4FncfvJf"
      }
    },
    {
      "cell_type": "markdown",
      "source": [
        ""
      ],
      "metadata": {
        "id": "G_iu0OEslx9f"
      }
    },
    {
      "cell_type": "markdown",
      "source": [
        "Tutorial 3\n",
        "- Write a Python Program to Generate a Calender of a given Month and Year.\n",
        "- Write a Python Program to Implement a Simple Calculator Program."
      ],
      "metadata": {
        "id": "9yYy51yDgIsG"
      }
    }
  ]
}